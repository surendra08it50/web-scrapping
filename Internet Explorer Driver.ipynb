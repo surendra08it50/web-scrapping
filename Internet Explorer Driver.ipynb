{
 "cells": [
  {
   "cell_type": "code",
   "execution_count": null,
   "metadata": {},
   "outputs": [],
   "source": [
    "from selenium import webdriver\n",
    "from selenium.webdriver.common.keys import Keys\n",
    "from selenium.webdriver.common.by import By\n",
    "from selenium.webdriver.support.ui import Select\n",
    "import time\n",
    "from bs4 import BeautifulSoup\n",
    "import requests\n",
    "from selenium.webdriver.common.action_chains import ActionChains\n",
    "import urllib\n",
    "import xlwt\n",
    "wb = xlwt.Workbook()\n",
    "\n",
    "# country_list = [\"ARSS 2018\",\"CLSS 2018\",\"COSS 2018\",\"MXSS 2018\"]\n",
    "country_list = [\"ARSS, CLSS, COSS & MXSS 2018\"]\n",
    "\n",
    "# chromeOptions = webdriver.ChromeOptions()\n",
    "# chromeOptions.add_experimental_option('useAutomationExtension', False)\n",
    "# driver = webdriver.Chrome(\"C:\\\\Users\\\\Kumarsur\\\\Desktop\\\\python\\\\chromedriver\",chrome_options=chromeOptions, desired_capabilities=chromeOptions.to_capabilities())\n",
    "\n",
    "driver = webdriver.Ie(\"C:\\\\Users\\\\Kumarsur\\\\Desktop\\\\python\\\\IEDriverServer.exe\")\n",
    "\n",
    "driver.maximize_window()\n",
    "driver.get(\"https://tabulator.universumglobal.com/ui/default.aspx\") \n",
    "time.sleep(2)\n",
    "\n",
    "username = driver.find_element_by_id(\"txtUserName\")\n",
    "password = driver.find_element_by_id(\"txtPassword\")\n",
    "username.send_keys(\"pantheon\\surendra.kumar\")\n",
    "password.send_keys(\"Feb@2019\")\n",
    "login_attempt = driver.find_element_by_xpath(\"/html/body/form/table/tbody/tr[2]/td[2]/table/tbody/tr[8]/td/table/tbody/tr/td/div/a\")\n",
    "login_attempt.submit()\n",
    "time.sleep(3)"
   ]
  }
 ],
 "metadata": {
  "kernelspec": {
   "display_name": "Python 3",
   "language": "python",
   "name": "python3"
  },
  "language_info": {
   "codemirror_mode": {
    "name": "ipython",
    "version": 3
   },
   "file_extension": ".py",
   "mimetype": "text/x-python",
   "name": "python",
   "nbconvert_exporter": "python",
   "pygments_lexer": "ipython3",
   "version": "3.7.3"
  }
 },
 "nbformat": 4,
 "nbformat_minor": 2
}
